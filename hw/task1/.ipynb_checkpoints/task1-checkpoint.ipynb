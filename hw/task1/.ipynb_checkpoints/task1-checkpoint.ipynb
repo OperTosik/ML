{
 "cells": [
  {
   "cell_type": "code",
   "execution_count": 521,
   "id": "2de6d179-2874-4c8c-8899-1f4a0232c615",
   "metadata": {},
   "outputs": [],
   "source": [
    "import pandas as pd\n",
    "import pandas as np\n",
    "from matplotlib import pyplot as plt\n",
    "import numpy as np\n",
    "import random\n",
    "from sklearn.model_selection import train_test_split"
   ]
  },
  {
   "cell_type": "markdown",
   "id": "6fc41b7b-a175-4531-84f4-dc40d5c62e9e",
   "metadata": {},
   "source": [
    "### 1. Upload dataset"
   ]
  },
  {
   "cell_type": "code",
   "execution_count": 206,
   "id": "09c4c253-b780-4ab7-b686-4c71d9668c4a",
   "metadata": {
    "scrolled": true
   },
   "outputs": [],
   "source": [
    "# red wine\n",
    "data_frame_red = pd.read_csv(\"dataset/wine+quality/winequality-red.csv\",\n",
    "                             header=0,\n",
    "                             # index_col=0,\n",
    "                             sep=\";\",\n",
    "                             na_values=[\"Na\", \"?\"],\n",
    "                             encoding=\"utf-8\")\n",
    "\n",
    "# white wine\n",
    "data_frame_white = pd.read_csv(\"dataset/wine+quality/winequality-white.csv\",\n",
    "                              header=0,\n",
    "                              # index_col=0, \n",
    "                              sep=\";\",\n",
    "                              na_values=[\"Na\", \"?\"],\n",
    "                              encoding=\"utf-8\")"
   ]
  },
  {
   "cell_type": "code",
   "execution_count": 482,
   "id": "c5f6572f-1b15-4a1a-a6f6-a103cca3c1d5",
   "metadata": {},
   "outputs": [
    {
     "data": {
      "text/plain": [
       "13"
      ]
     },
     "execution_count": 482,
     "metadata": {},
     "output_type": "execute_result"
    }
   ],
   "source": [
    "# data_frame_red\n",
    "len(data_frame_red.columns.tolist())\n",
    "# data_frame_white.columns()\n"
   ]
  },
  {
   "cell_type": "markdown",
   "id": "8fd0b9d2-d0c4-43e9-9163-ec82582521e7",
   "metadata": {},
   "source": [
    "### 2. Check head() and tail()"
   ]
  },
  {
   "cell_type": "code",
   "execution_count": 191,
   "id": "77f53c63-bf5e-465f-bf8e-def6989279fb",
   "metadata": {
    "scrolled": true
   },
   "outputs": [
    {
     "name": "stdout",
     "output_type": "stream",
     "text": [
      "   fixed acidity  volatile acidity  citric acid  residual sugar  chlorides  \\\n",
      "0            7.4              0.70         0.00             1.9      0.076   \n",
      "1            7.8              0.88         0.00             2.6      0.098   \n",
      "2            7.8              0.76         0.04             2.3      0.092   \n",
      "3           11.2              0.28         0.56             1.9      0.075   \n",
      "4            7.4              0.70         0.00             1.9      0.076   \n",
      "\n",
      "   free sulfur dioxide  total sulfur dioxide  density    pH  sulphates  \\\n",
      "0                 11.0                  34.0   0.9978  3.51       0.56   \n",
      "1                 25.0                  67.0   0.9968  3.20       0.68   \n",
      "2                 15.0                  54.0   0.9970  3.26       0.65   \n",
      "3                 17.0                  60.0   0.9980  3.16       0.58   \n",
      "4                 11.0                  34.0   0.9978  3.51       0.56   \n",
      "\n",
      "   alcohol  quality  \n",
      "0      9.4        5  \n",
      "1      9.8        5  \n",
      "2      9.8        5  \n",
      "3      9.8        6  \n",
      "4      9.4        5  \n",
      "      fixed acidity  volatile acidity  citric acid  residual sugar  chlorides  \\\n",
      "1594            6.2             0.600         0.08             2.0      0.090   \n",
      "1595            5.9             0.550         0.10             2.2      0.062   \n",
      "1596            6.3             0.510         0.13             2.3      0.076   \n",
      "1597            5.9             0.645         0.12             2.0      0.075   \n",
      "1598            6.0             0.310         0.47             3.6      0.067   \n",
      "\n",
      "      free sulfur dioxide  total sulfur dioxide  density    pH  sulphates  \\\n",
      "1594                 32.0                  44.0  0.99490  3.45       0.58   \n",
      "1595                 39.0                  51.0  0.99512  3.52       0.76   \n",
      "1596                 29.0                  40.0  0.99574  3.42       0.75   \n",
      "1597                 32.0                  44.0  0.99547  3.57       0.71   \n",
      "1598                 18.0                  42.0  0.99549  3.39       0.66   \n",
      "\n",
      "      alcohol  quality  \n",
      "1594     10.5        5  \n",
      "1595     11.2        6  \n",
      "1596     11.0        6  \n",
      "1597     10.2        5  \n",
      "1598     11.0        6  \n",
      "   fixed acidity  volatile acidity  citric acid  residual sugar  chlorides  \\\n",
      "0            7.0              0.27         0.36            20.7      0.045   \n",
      "1            6.3              0.30         0.34             1.6      0.049   \n",
      "2            8.1              0.28         0.40             6.9      0.050   \n",
      "3            7.2              0.23         0.32             8.5      0.058   \n",
      "4            7.2              0.23         0.32             8.5      0.058   \n",
      "\n",
      "   free sulfur dioxide  total sulfur dioxide  density    pH  sulphates  \\\n",
      "0                 45.0                 170.0   1.0010  3.00       0.45   \n",
      "1                 14.0                 132.0   0.9940  3.30       0.49   \n",
      "2                 30.0                  97.0   0.9951  3.26       0.44   \n",
      "3                 47.0                 186.0   0.9956  3.19       0.40   \n",
      "4                 47.0                 186.0   0.9956  3.19       0.40   \n",
      "\n",
      "   alcohol  quality  \n",
      "0      8.8        6  \n",
      "1      9.5        6  \n",
      "2     10.1        6  \n",
      "3      9.9        6  \n",
      "4      9.9        6  \n",
      "      fixed acidity  volatile acidity  citric acid  residual sugar  chlorides  \\\n",
      "4893            6.2              0.21         0.29             1.6      0.039   \n",
      "4894            6.6              0.32         0.36             8.0      0.047   \n",
      "4895            6.5              0.24         0.19             1.2      0.041   \n",
      "4896            5.5              0.29         0.30             1.1      0.022   \n",
      "4897            6.0              0.21         0.38             0.8      0.020   \n",
      "\n",
      "      free sulfur dioxide  total sulfur dioxide  density    pH  sulphates  \\\n",
      "4893                 24.0                  92.0  0.99114  3.27       0.50   \n",
      "4894                 57.0                 168.0  0.99490  3.15       0.46   \n",
      "4895                 30.0                 111.0  0.99254  2.99       0.46   \n",
      "4896                 20.0                 110.0  0.98869  3.34       0.38   \n",
      "4897                 22.0                  98.0  0.98941  3.26       0.32   \n",
      "\n",
      "      alcohol  quality  \n",
      "4893     11.2        6  \n",
      "4894      9.6        5  \n",
      "4895      9.4        6  \n",
      "4896     12.8        7  \n",
      "4897     11.8        6  \n"
     ]
    }
   ],
   "source": [
    "# head red wine\n",
    "print(data_frame_red.head())\n",
    "# tail red wine\n",
    "print(data_frame_red.tail())\n",
    "\n",
    "# head white wine\n",
    "print(data_frame_white.head())\n",
    "# tail white wine\n",
    "print(data_frame_white.tail())"
   ]
  },
  {
   "cell_type": "markdown",
   "id": "66fc563f-bfdd-44e2-b257-ae5bf900cf23",
   "metadata": {},
   "source": [
    "### 3. Check info()"
   ]
  },
  {
   "cell_type": "code",
   "execution_count": 192,
   "id": "39def637-3200-423e-ac40-360a6c38ce0d",
   "metadata": {
    "scrolled": true
   },
   "outputs": [
    {
     "name": "stdout",
     "output_type": "stream",
     "text": [
      "<class 'pandas.core.frame.DataFrame'>\n",
      "RangeIndex: 1599 entries, 0 to 1598\n",
      "Data columns (total 12 columns):\n",
      " #   Column                Non-Null Count  Dtype  \n",
      "---  ------                --------------  -----  \n",
      " 0   fixed acidity         1599 non-null   float64\n",
      " 1   volatile acidity      1599 non-null   float64\n",
      " 2   citric acid           1599 non-null   float64\n",
      " 3   residual sugar        1599 non-null   float64\n",
      " 4   chlorides             1599 non-null   float64\n",
      " 5   free sulfur dioxide   1599 non-null   float64\n",
      " 6   total sulfur dioxide  1599 non-null   float64\n",
      " 7   density               1599 non-null   float64\n",
      " 8   pH                    1599 non-null   float64\n",
      " 9   sulphates             1599 non-null   float64\n",
      " 10  alcohol               1599 non-null   float64\n",
      " 11  quality               1599 non-null   int64  \n",
      "dtypes: float64(11), int64(1)\n",
      "memory usage: 150.0 KB\n",
      "None\n",
      "<class 'pandas.core.frame.DataFrame'>\n",
      "RangeIndex: 4898 entries, 0 to 4897\n",
      "Data columns (total 12 columns):\n",
      " #   Column                Non-Null Count  Dtype  \n",
      "---  ------                --------------  -----  \n",
      " 0   fixed acidity         4898 non-null   float64\n",
      " 1   volatile acidity      4898 non-null   float64\n",
      " 2   citric acid           4898 non-null   float64\n",
      " 3   residual sugar        4898 non-null   float64\n",
      " 4   chlorides             4898 non-null   float64\n",
      " 5   free sulfur dioxide   4898 non-null   float64\n",
      " 6   total sulfur dioxide  4898 non-null   float64\n",
      " 7   density               4898 non-null   float64\n",
      " 8   pH                    4898 non-null   float64\n",
      " 9   sulphates             4898 non-null   float64\n",
      " 10  alcohol               4898 non-null   float64\n",
      " 11  quality               4898 non-null   int64  \n",
      "dtypes: float64(11), int64(1)\n",
      "memory usage: 459.3 KB\n",
      "None\n"
     ]
    }
   ],
   "source": [
    "# info about red wine\n",
    "print(data_frame_red.info())\n",
    "\n",
    "# info about white wine\n",
    "print(data_frame_white.info())"
   ]
  },
  {
   "cell_type": "markdown",
   "id": "5444f5d2-27aa-46ba-82e0-1765414b0523",
   "metadata": {},
   "source": [
    "### 4. Check describe()"
   ]
  },
  {
   "cell_type": "code",
   "execution_count": 193,
   "id": "cfc67d1f-6623-44b0-9c71-a2a902bce58a",
   "metadata": {
    "scrolled": true
   },
   "outputs": [
    {
     "name": "stdout",
     "output_type": "stream",
     "text": [
      "       fixed acidity  volatile acidity  citric acid  residual sugar  \\\n",
      "count    1599.000000       1599.000000  1599.000000     1599.000000   \n",
      "mean        8.319637          0.527821     0.270976        2.538806   \n",
      "std         1.741096          0.179060     0.194801        1.409928   \n",
      "min         4.600000          0.120000     0.000000        0.900000   \n",
      "25%         7.100000          0.390000     0.090000        1.900000   \n",
      "50%         7.900000          0.520000     0.260000        2.200000   \n",
      "75%         9.200000          0.640000     0.420000        2.600000   \n",
      "max        15.900000          1.580000     1.000000       15.500000   \n",
      "\n",
      "         chlorides  free sulfur dioxide  total sulfur dioxide      density  \\\n",
      "count  1599.000000          1599.000000           1599.000000  1599.000000   \n",
      "mean      0.087467            15.874922             46.467792     0.996747   \n",
      "std       0.047065            10.460157             32.895324     0.001887   \n",
      "min       0.012000             1.000000              6.000000     0.990070   \n",
      "25%       0.070000             7.000000             22.000000     0.995600   \n",
      "50%       0.079000            14.000000             38.000000     0.996750   \n",
      "75%       0.090000            21.000000             62.000000     0.997835   \n",
      "max       0.611000            72.000000            289.000000     1.003690   \n",
      "\n",
      "                pH    sulphates      alcohol      quality  \n",
      "count  1599.000000  1599.000000  1599.000000  1599.000000  \n",
      "mean      3.311113     0.658149    10.422983     5.636023  \n",
      "std       0.154386     0.169507     1.065668     0.807569  \n",
      "min       2.740000     0.330000     8.400000     3.000000  \n",
      "25%       3.210000     0.550000     9.500000     5.000000  \n",
      "50%       3.310000     0.620000    10.200000     6.000000  \n",
      "75%       3.400000     0.730000    11.100000     6.000000  \n",
      "max       4.010000     2.000000    14.900000     8.000000  \n",
      "       fixed acidity  volatile acidity  citric acid  residual sugar  \\\n",
      "count    4898.000000       4898.000000  4898.000000     4898.000000   \n",
      "mean        6.854788          0.278241     0.334192        6.391415   \n",
      "std         0.843868          0.100795     0.121020        5.072058   \n",
      "min         3.800000          0.080000     0.000000        0.600000   \n",
      "25%         6.300000          0.210000     0.270000        1.700000   \n",
      "50%         6.800000          0.260000     0.320000        5.200000   \n",
      "75%         7.300000          0.320000     0.390000        9.900000   \n",
      "max        14.200000          1.100000     1.660000       65.800000   \n",
      "\n",
      "         chlorides  free sulfur dioxide  total sulfur dioxide      density  \\\n",
      "count  4898.000000          4898.000000           4898.000000  4898.000000   \n",
      "mean      0.045772            35.308085            138.360657     0.994027   \n",
      "std       0.021848            17.007137             42.498065     0.002991   \n",
      "min       0.009000             2.000000              9.000000     0.987110   \n",
      "25%       0.036000            23.000000            108.000000     0.991723   \n",
      "50%       0.043000            34.000000            134.000000     0.993740   \n",
      "75%       0.050000            46.000000            167.000000     0.996100   \n",
      "max       0.346000           289.000000            440.000000     1.038980   \n",
      "\n",
      "                pH    sulphates      alcohol      quality  \n",
      "count  4898.000000  4898.000000  4898.000000  4898.000000  \n",
      "mean      3.188267     0.489847    10.514267     5.877909  \n",
      "std       0.151001     0.114126     1.230621     0.885639  \n",
      "min       2.720000     0.220000     8.000000     3.000000  \n",
      "25%       3.090000     0.410000     9.500000     5.000000  \n",
      "50%       3.180000     0.470000    10.400000     6.000000  \n",
      "75%       3.280000     0.550000    11.400000     6.000000  \n",
      "max       3.820000     1.080000    14.200000     9.000000  \n"
     ]
    }
   ],
   "source": [
    "# describe red wine\n",
    "print(data_frame_red.describe())\n",
    "\n",
    "# describe white wine\n",
    "print(data_frame_white.describe())"
   ]
  },
  {
   "cell_type": "markdown",
   "id": "0884eee8-ed61-47a7-8930-06d7d07d3633",
   "metadata": {},
   "source": [
    "### 5. Check on missing value"
   ]
  },
  {
   "cell_type": "code",
   "execution_count": 194,
   "id": "2f7cc3c5-b364-4179-8c38-be60576cd5b3",
   "metadata": {},
   "outputs": [
    {
     "name": "stdout",
     "output_type": "stream",
     "text": [
      "False\n",
      "fixed acidity           0\n",
      "volatile acidity        0\n",
      "citric acid             0\n",
      "residual sugar          0\n",
      "chlorides               0\n",
      "free sulfur dioxide     0\n",
      "total sulfur dioxide    0\n",
      "density                 0\n",
      "pH                      0\n",
      "sulphates               0\n",
      "alcohol                 0\n",
      "quality                 0\n",
      "dtype: int64\n",
      "False\n",
      "fixed acidity           0\n",
      "volatile acidity        0\n",
      "citric acid             0\n",
      "residual sugar          0\n",
      "chlorides               0\n",
      "free sulfur dioxide     0\n",
      "total sulfur dioxide    0\n",
      "density                 0\n",
      "pH                      0\n",
      "sulphates               0\n",
      "alcohol                 0\n",
      "quality                 0\n",
      "dtype: int64\n"
     ]
    }
   ],
   "source": [
    "# For red wines\n",
    "print(data_frame_red.isnull().values.any())\n",
    "# If we have some missing value, we can count quantity of its\n",
    "print(data_frame_red.isnull().sum())\n",
    "\n",
    "# For white wines\n",
    "print(data_frame_white.isnull().values.any())\n",
    "print(data_frame_red.isnull().sum())"
   ]
  },
  {
   "cell_type": "markdown",
   "id": "a0cd47c5-b6fe-4824-8f52-8adda6ecc8a5",
   "metadata": {},
   "source": [
    "### 6. Plot of distribution target variable\n"
   ]
  },
  {
   "cell_type": "code",
   "execution_count": 245,
   "id": "5a5c5828-9447-4ca6-8142-9ad3b54186af",
   "metadata": {},
   "outputs": [
    {
     "data": {
      "image/png": "[encoded data removed]",
      "text/plain": [
       "<Figure size 640x480 with 1 Axes>"
      ]
     },
     "metadata": {},
     "output_type": "display_data"
    },
    {
     "data": {
      "image/png": "[encoded data removed]",
      "text/plain": [
       "<Figure size 640x480 with 1 Axes>"
      ]
     },
     "metadata": {},
     "output_type": "display_data"
    }
   ],
   "source": [
    "# target variable is \"quality\"\n",
    "y = [0, 10]\n",
    "data_frame_red.plot(kind=\"scatter\",x = \"residual sugar\", y = \"quality\", color=\"red\")\n",
    "data_frame_white.plot(kind=\"scatter\",x = \"residual sugar\", y = \"quality\", color=\"yellow\")\n",
    "plt.gca().spines[['top', 'right',]].set_visible(False)"
   ]
  },
  {
   "cell_type": "markdown",
   "id": "60508299-8860-4143-a5e1-220310c742d4",
   "metadata": {},
   "source": [
    "#### Lets transparent as a group"
   ]
  },
  {
   "cell_type": "code",
   "execution_count": 379,
   "id": "426c4a3a-4f22-41a1-b793-d5da175327df",
   "metadata": {},
   "outputs": [
    {
     "data": {
      "image/png": "[encoded data removed]",
      "text/plain": [
       "<Figure size 640x480 with 1 Axes>"
      ]
     },
     "metadata": {},
     "output_type": "display_data"
    }
   ],
   "source": [
    "X1 = data_frame_red.iloc[:, 3]\n",
    "X2 = data_frame_white.iloc[:, 3]\n",
    "y1 = data_frame_red.iloc[:, 11]\n",
    "y2 = data_frame_white.iloc[:, 11]\n",
    "plt.scatter(X1, y1, color=\"red\", alpha=1)\n",
    "plt.scatter(X2, y2, color=\"yellow\", alpha=0.1)\n",
    "plt.xlabel(\"residual sugar\")\n",
    "plt.ylabel(\"quality\")\n",
    "plt.show()"
   ]
  },
  {
   "cell_type": "markdown",
   "id": "af890d49-3406-412f-b3c3-040eac542f2a",
   "metadata": {},
   "source": [
    "### 7. Count quantity of elements for each class"
   ]
  },
  {
   "cell_type": "code",
   "execution_count": 338,
   "id": "8b8f0e14-338f-4dfd-b000-a3a20a5af9da",
   "metadata": {},
   "outputs": [],
   "source": [
    "def quantity_elems(data_frame):\n",
    "    y = {}\n",
    "    for i in data_frame.iloc[:, 11]:\n",
    "        if i not in y.keys():\n",
    "            y[i] = 1\n",
    "        else: \n",
    "            y[i] += 1\n",
    "    return y"
   ]
  },
  {
   "cell_type": "code",
   "execution_count": 339,
   "id": "944e36d5-c902-4fbb-abdf-991ce7d9a6be",
   "metadata": {},
   "outputs": [
    {
     "name": "stdout",
     "output_type": "stream",
     "text": [
      "Distribution for quality of red wines:\n",
      "5 681\n",
      "6 638\n",
      "7 199\n",
      "4 53\n",
      "8 18\n",
      "3 10\n"
     ]
    }
   ],
   "source": [
    "print(\"Distribution for quality of red wines:\")\n",
    "classes_df_red = quantity_elems(data_frame_red)\n",
    "for i in classes_df_red:\n",
    "    print(i, classes_df_red[i])"
   ]
  },
  {
   "cell_type": "code",
   "execution_count": 395,
   "id": "90a24d7e-4dae-4aa4-93ea-71ca5760dd25",
   "metadata": {},
   "outputs": [
    {
     "name": "stdout",
     "output_type": "stream",
     "text": [
      "Distribution for quality of white wines:\n",
      "6 2198\n",
      "5 1457\n",
      "7 880\n",
      "8 175\n",
      "4 163\n",
      "3 20\n",
      "9 5\n"
     ]
    }
   ],
   "source": [
    "print(\"Distribution for quality of white wines:\")\n",
    "classes_df_white = quantity_elems(data_frame_white)\n",
    "for i in classes_df_white:\n",
    "    print(i, classes_df_white[i])"
   ]
  },
  {
   "cell_type": "code",
   "execution_count": 404,
   "id": "85a0a77c-b88b-4728-8c7b-5e7fa69cd970",
   "metadata": {},
   "outputs": [
    {
     "name": "stdout",
     "output_type": "stream",
     "text": [
      "5 2138\n",
      "9 5\n",
      "6 2836\n",
      "7 1079\n",
      "4 216\n",
      "8 193\n",
      "3 30\n"
     ]
    }
   ],
   "source": [
    "# merge dicts\n",
    "# Сори за квадратую асимптотику, но классов мало и они упорядочены\n",
    "classes_df = {}\n",
    "for i in classes_df_red:\n",
    "    for j in classes_df_white:\n",
    "        if i == j:\n",
    "            classes_df[i] = classes_df_red[i] + classes_df_white[i]\n",
    "        if j not in classes_df_red:\n",
    "            classes_df[j] = classes_df_white[j]\n",
    "        if i not in classes_df_white:\n",
    "            classes_df[i] = classes_df_red[i]\n",
    "            \n",
    "for i in classes_df:\n",
    "    print(i, classes_df[i])"
   ]
  },
  {
   "cell_type": "markdown",
   "id": "acc3141a-57d8-4540-a5f1-7f64cbdb4220",
   "metadata": {},
   "source": [
    "### 8. Estimation disbalance "
   ]
  },
  {
   "cell_type": "code",
   "execution_count": 385,
   "id": "456caf80-1b30-467b-b163-448730f109ab",
   "metadata": {},
   "outputs": [
    {
     "data": {
      "image/png": "[encoded data removed]",
      "text/plain": [
       "<Figure size 640x480 with 1 Axes>"
      ]
     },
     "metadata": {},
     "output_type": "display_data"
    }
   ],
   "source": [
    "plt.scatter(classes_df_red.keys(), classes_df_red.values(), color=\"red\", alpha=1)\n",
    "plt.scatter(classes_df_white.keys(), classes_df_white.values(), color=\"yellow\", alpha=1)\n",
    "plt.xlabel(\"quality\")\n",
    "plt.ylabel(\"quantity\")\n",
    "plt.legend([\"red wine\", \"white wine\"])\n",
    "plt.show()"
   ]
  },
  {
   "cell_type": "markdown",
   "id": "0063d78c-0aa3-4f51-9455-9f4dd111cca1",
   "metadata": {},
   "source": [
    "Отдаленно напоминает распределение Гаусса. Дизбаланс достаточно велик."
   ]
  },
  {
   "cell_type": "markdown",
   "id": "8703e7bc-6f58-454f-94c8-b3a9860aef3c",
   "metadata": {},
   "source": [
    "### 9. Split on test and train sections"
   ]
  },
  {
   "cell_type": "markdown",
   "id": "e9969fe5-f08a-4fdc-a376-d8a98043635d",
   "metadata": {},
   "source": [
    "В самом начале мне было очень лень сливать датафреймы в один, поэтому я сделаю это сейчас и учту на будущее"
   ]
  },
  {
   "cell_type": "code",
   "execution_count": 368,
   "id": "7db27b62-7557-4b4b-bbaa-4504bfda7522",
   "metadata": {
    "scrolled": true
   },
   "outputs": [],
   "source": [
    "# var view := {0, if wine is \"red\"; 1 else}\n",
    "view = [0, 1]\n",
    "data_frame_red[\"view\"] = 0\n",
    "data_frame_white[\"view\"] = 1\n",
    "X1 = np.array(data_frame_red)\n",
    "X2 = np.array(data_frame_white)\n",
    "y1 = np.array(data_frame_red.iloc[:, 11])\n",
    "y2 = np.array(data_frame_white.iloc[:, 11])"
   ]
  },
  {
   "cell_type": "code",
   "execution_count": 372,
   "id": "7b9a79c6-cb3f-46c9-9743-c51ac664f630",
   "metadata": {},
   "outputs": [],
   "source": [
    "X = np.concatenate((X1, X2))\n",
    "y = np.concatenate((y1, y2))"
   ]
  },
  {
   "cell_type": "markdown",
   "id": "ae3f260c-bf8c-403b-81ca-c5b5d6544f4e",
   "metadata": {},
   "source": [
    "The first way:"
   ]
  },
  {
   "cell_type": "code",
   "execution_count": 377,
   "id": "f98a75bc-8f03-4c6a-b30c-c1749b1c4b70",
   "metadata": {},
   "outputs": [],
   "source": [
    "train_persentage = 0.7\n",
    "split_index = int(train_persentage * len(X))\n",
    "X_train, X_test = X[:split_index], X[split_index]\n",
    "y_train, y_test = y[:split_index], y[split_index]"
   ]
  },
  {
   "cell_type": "markdown",
   "id": "dbdb13e7-de91-4245-aa4c-ba8e20fe6174",
   "metadata": {},
   "source": [
    "The second way:\n",
    "\n",
    "random splitting"
   ]
  },
  {
   "cell_type": "code",
   "execution_count": 393,
   "id": "57eab668-eb87-465c-b791-f61530ff4fff",
   "metadata": {},
   "outputs": [],
   "source": [
    "random.shuffle(X)\n",
    "train_persentage = 0.75\n",
    "split_index = int(train_persentage * len(X))\n",
    "X_train, X_test = X[:split_index], X[split_index]\n",
    "y_train, y_test = y[:split_index], y[split_index]"
   ]
  },
  {
   "cell_type": "markdown",
   "id": "5a2d96f6-3eaa-4ed1-a7ff-f274ab8923c9",
   "metadata": {},
   "source": [
    "The third way:\n",
    "\n",
    "Stratified splitting:"
   ]
  },
  {
   "cell_type": "code",
   "execution_count": 529,
   "id": "ac5c9325-945f-4524-9475-d6f8122ed49b",
   "metadata": {},
   "outputs": [],
   "source": [
    "X_train, X_test, y_train, y_test = train_test_split(\n",
    "    X, y, test_size=0.3, random_state=42, stratify=y\n",
    ")\n"
   ]
  },
  {
   "cell_type": "markdown",
   "id": "4d1fb1a7-b0c1-4c31-9b1d-b190630dfcca",
   "metadata": {},
   "source": [
    "Подходит практически любой способ разделения. Классический, по той причине что данные итак перемешаны.\n",
    "Рандомное - перетасует, но особой пользы не внесет. Стратификация имеет смысл, ибо может случиться так, что в train попадут только большие классы, а в test маленькие, хоть и вероятность этого события мала. Кросс-валидацию в целом также можно провести, только вместе со стратификацией"
   ]
  }
 ],
 "metadata": {
  "kernelspec": {
   "display_name": "Python 3 (ipykernel)",
   "language": "python",
   "name": "python3"
  },
  "language_info": {
   "codemirror_mode": {
    "name": "ipython",
    "version": 3
   },
   "file_extension": ".py",
   "mimetype": "text/x-python",
   "name": "python",
   "nbconvert_exporter": "python",
   "pygments_lexer": "ipython3",
   "version": "3.13.2"
  }
 },
 "nbformat": 4,
 "nbformat_minor": 5
}
