{
 "cells": [
  {
   "cell_type": "code",
   "execution_count": 4,
   "id": "8695ed91-ea1a-4c6c-a6ad-6f313cdb7250",
   "metadata": {
    "scrolled": true
   },
   "outputs": [
    {
     "name": "stdout",
     "output_type": "stream",
     "text": [
      "Requirement already satisfied: captcha in /opt/homebrew/Cellar/jupyterlab/4.3.6/libexec/lib/python3.13/site-packages (0.7.1)\n",
      "Requirement already satisfied: Pillow in /opt/homebrew/Cellar/jupyterlab/4.3.6/libexec/lib/python3.13/site-packages (from captcha) (11.1.0)\n",
      "\n",
      "\u001b[1m[\u001b[0m\u001b[34;49mnotice\u001b[0m\u001b[1;39;49m]\u001b[0m\u001b[39;49m A new release of pip is available: \u001b[0m\u001b[31;49m25.0\u001b[0m\u001b[39;49m -> \u001b[0m\u001b[32;49m25.0.1\u001b[0m\n",
      "\u001b[1m[\u001b[0m\u001b[34;49mnotice\u001b[0m\u001b[1;39;49m]\u001b[0m\u001b[39;49m To update, run: \u001b[0m\u001b[32;49m/opt/homebrew/Cellar/jupyterlab/4.3.6/libexec/bin/python -m pip install --upgrade pip\u001b[0m\n",
      "Note: you may need to restart the kernel to use updated packages.\n"
     ]
    }
   ],
   "source": [
    " pip install captcha"
   ]
  },
  {
   "cell_type": "code",
   "execution_count": 118,
   "id": "72ffcbae-574a-4702-aae3-f44d5e951ccf",
   "metadata": {},
   "outputs": [],
   "source": [
    "from captcha.image import ImageCaptcha\n",
    "import random"
   ]
  },
  {
   "cell_type": "code",
   "execution_count": 136,
   "id": "db99820e-b74b-4229-93ed-d9aa38974f8d",
   "metadata": {},
   "outputs": [],
   "source": [
    "# Generate random text for captcha\n",
    "def generate_content():\n",
    "    dictionary = \"qwertyuiopasdfghjklzxcvbnm123456789\" # Without null, because i can't make out \"O\" and \"0\"\n",
    "    captcha_content = \"\"\n",
    "    lenght = random.randint(5, 10)\n",
    "    for i in range(lenght):\n",
    "        captcha_content += random.choice(dictionary)\n",
    "    return captcha_content\n",
    "    \n",
    "#all variations of captha 2839681097662500"
   ]
  },
  {
   "cell_type": "code",
   "execution_count": 175,
   "id": "46c8bce3-5321-4030-95f6-023e149e7eaf",
   "metadata": {},
   "outputs": [],
   "source": [
    "#Generate captcha\n",
    "def generate_captcha(filename):\n",
    "    captcha_content = generate_content()\n",
    "    image = ImageCaptcha(width = 280, height = 90)\n",
    "    data = image.generate(captcha_content)\n",
    "    image.write(captcha_content, \"input/\" + filename)"
   ]
  },
  {
   "cell_type": "code",
   "execution_count": 153,
   "id": "659e4d41-1609-4b3d-93d4-2ee5647d52ff",
   "metadata": {},
   "outputs": [],
   "source": [
    "#Generate name for file\n",
    "def generate_filename(i):\n",
    "    filename = \"CAPTCHA\" + str(i) + \".png\"\n",
    "    return filename"
   ]
  },
  {
   "cell_type": "code",
   "execution_count": 177,
   "id": "c4bed181-968c-467a-b672-c0437b8b85bc",
   "metadata": {},
   "outputs": [],
   "source": [
    "#Generate k objects\n",
    "def generate_objects(k):\n",
    "    list_of_objects = list()\n",
    "    for i in range(0,k):\n",
    "        filename = generate_filename(i)\n",
    "        list_of_objects.append(filename)\n",
    "        generate_captcha(filename)\n",
    "        \n",
    "    return list_of_objects"
   ]
  },
  {
   "cell_type": "code",
   "execution_count": 188,
   "id": "6bcc3c0b-31a9-4080-a244-a3e5b4be95fd",
   "metadata": {},
   "outputs": [],
   "source": [
    "#Fill X\n",
    "X = generate_objects(2)"
   ]
  },
  {
   "cell_type": "code",
   "execution_count": 189,
   "id": "2b550b74-5914-4e57-8e17-cbfd3aa120d9",
   "metadata": {},
   "outputs": [],
   "source": [
    "if __name__ == \"__main__\":\n",
    "    Y = \"abcdefghijklmnopqrstuvwxyz123456789\"\n",
    "    "
   ]
  },
  {
   "cell_type": "code",
   "execution_count": null,
   "id": "0af4824a-872c-4bb7-ad78-84bbafcc04d5",
   "metadata": {},
   "outputs": [],
   "source": []
  }
 ],
 "metadata": {
  "kernelspec": {
   "display_name": "Python 3 (ipykernel)",
   "language": "python",
   "name": "python3"
  },
  "language_info": {
   "codemirror_mode": {
    "name": "ipython",
    "version": 3
   },
   "file_extension": ".py",
   "mimetype": "text/x-python",
   "name": "python",
   "nbconvert_exporter": "python",
   "pygments_lexer": "ipython3",
   "version": "3.13.2"
  }
 },
 "nbformat": 4,
 "nbformat_minor": 5
}
