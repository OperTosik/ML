{
  "nbformat": 4,
  "nbformat_minor": 0,
  "metadata": {
    "colab": {
      "provenance": []
    },
    "kernelspec": {
      "name": "python3",
      "display_name": "Python 3"
    },
    "language_info": {
      "name": "python"
    }
  },
  "cells": [
    {
      "cell_type": "markdown",
      "source": [
        "# Агрегация данных"
      ],
      "metadata": {
        "id": "qR5h94AAGv1t"
      }
    },
    {
      "cell_type": "code",
      "source": [
        "import pandas as pd\n",
        "import numpy as np"
      ],
      "metadata": {
        "id": "Pgj1RwJoG5cS"
      },
      "execution_count": 17,
      "outputs": []
    },
    {
      "cell_type": "code",
      "source": [
        "data = {\n",
        "    \"Город\": [\"Москва\", \"Санкт-Петербург\", \"Москва\", \"Екатеринбург\", \"Санкт-Петербург\"] * 3,\n",
        "    \"Пол\": [\"М\", \"Ж\", \"М\", \"Ж\", \"М\"] * 3,\n",
        "    \"Продажи\": np.random.randint(100, 500, 15),  # Случайные значения от 100 до 500\n",
        "    \"Возраст\": np.random.randint(20, 50, 15)     # Случайные значения от 20 до 50\n",
        "}\n",
        "\n",
        "df = pd.DataFrame(data)\n",
        "df.head()"
      ],
      "metadata": {
        "colab": {
          "base_uri": "https://localhost:8080/",
          "height": 206
        },
        "id": "UxGBMXMxG776",
        "outputId": "f5694680-9345-4885-8706-7ece83c5b0a2"
      },
      "execution_count": 19,
      "outputs": [
        {
          "output_type": "execute_result",
          "data": {
            "text/plain": [
              "             Город Пол  Продажи  Возраст\n",
              "0           Москва   М      230       46\n",
              "1  Санкт-Петербург   Ж      351       48\n",
              "2           Москва   М      120       28\n",
              "3     Екатеринбург   Ж      398       20\n",
              "4  Санкт-Петербург   М      246       23"
            ],
            "text/html": [
              "\n",
              "  <div id=\"df-fe43f748-8014-4eb2-9e0b-f52c183f20f2\" class=\"colab-df-container\">\n",
              "    <div>\n",
              "<style scoped>\n",
              "    .dataframe tbody tr th:only-of-type {\n",
              "        vertical-align: middle;\n",
              "    }\n",
              "\n",
              "    .dataframe tbody tr th {\n",
              "        vertical-align: top;\n",
              "    }\n",
              "\n",
              "    .dataframe thead th {\n",
              "        text-align: right;\n",
              "    }\n",
              "</style>\n",
              "<table border=\"1\" class=\"dataframe\">\n",
              "  <thead>\n",
              "    <tr style=\"text-align: right;\">\n",
              "      <th></th>\n",
              "      <th>Город</th>\n",
              "      <th>Пол</th>\n",
              "      <th>Продажи</th>\n",
              "      <th>Возраст</th>\n",
              "    </tr>\n",
              "  </thead>\n",
              "  <tbody>\n",
              "    <tr>\n",
              "      <th>0</th>\n",
              "      <td>Москва</td>\n",
              "      <td>М</td>\n",
              "      <td>230</td>\n",
              "      <td>46</td>\n",
              "    </tr>\n",
              "    <tr>\n",
              "      <th>1</th>\n",
              "      <td>Санкт-Петербург</td>\n",
              "      <td>Ж</td>\n",
              "      <td>351</td>\n",
              "      <td>48</td>\n",
              "    </tr>\n",
              "    <tr>\n",
              "      <th>2</th>\n",
              "      <td>Москва</td>\n",
              "      <td>М</td>\n",
              "      <td>120</td>\n",
              "      <td>28</td>\n",
              "    </tr>\n",
              "    <tr>\n",
              "      <th>3</th>\n",
              "      <td>Екатеринбург</td>\n",
              "      <td>Ж</td>\n",
              "      <td>398</td>\n",
              "      <td>20</td>\n",
              "    </tr>\n",
              "    <tr>\n",
              "      <th>4</th>\n",
              "      <td>Санкт-Петербург</td>\n",
              "      <td>М</td>\n",
              "      <td>246</td>\n",
              "      <td>23</td>\n",
              "    </tr>\n",
              "  </tbody>\n",
              "</table>\n",
              "</div>\n",
              "    <div class=\"colab-df-buttons\">\n",
              "\n",
              "  <div class=\"colab-df-container\">\n",
              "    <button class=\"colab-df-convert\" onclick=\"convertToInteractive('df-fe43f748-8014-4eb2-9e0b-f52c183f20f2')\"\n",
              "            title=\"Convert this dataframe to an interactive table.\"\n",
              "            style=\"display:none;\">\n",
              "\n",
              "  <svg xmlns=\"http://www.w3.org/2000/svg\" height=\"24px\" viewBox=\"0 -960 960 960\">\n",
              "    <path d=\"M120-120v-720h720v720H120Zm60-500h600v-160H180v160Zm220 220h160v-160H400v160Zm0 220h160v-160H400v160ZM180-400h160v-160H180v160Zm440 0h160v-160H620v160ZM180-180h160v-160H180v160Zm440 0h160v-160H620v160Z\"/>\n",
              "  </svg>\n",
              "    </button>\n",
              "\n",
              "  <style>\n",
              "    .colab-df-container {\n",
              "      display:flex;\n",
              "      gap: 12px;\n",
              "    }\n",
              "\n",
              "    .colab-df-convert {\n",
              "      background-color: #E8F0FE;\n",
              "      border: none;\n",
              "      border-radius: 50%;\n",
              "      cursor: pointer;\n",
              "      display: none;\n",
              "      fill: #1967D2;\n",
              "      height: 32px;\n",
              "      padding: 0 0 0 0;\n",
              "      width: 32px;\n",
              "    }\n",
              "\n",
              "    .colab-df-convert:hover {\n",
              "      background-color: #E2EBFA;\n",
              "      box-shadow: 0px 1px 2px rgba(60, 64, 67, 0.3), 0px 1px 3px 1px rgba(60, 64, 67, 0.15);\n",
              "      fill: #174EA6;\n",
              "    }\n",
              "\n",
              "    .colab-df-buttons div {\n",
              "      margin-bottom: 4px;\n",
              "    }\n",
              "\n",
              "    [theme=dark] .colab-df-convert {\n",
              "      background-color: #3B4455;\n",
              "      fill: #D2E3FC;\n",
              "    }\n",
              "\n",
              "    [theme=dark] .colab-df-convert:hover {\n",
              "      background-color: #434B5C;\n",
              "      box-shadow: 0px 1px 3px 1px rgba(0, 0, 0, 0.15);\n",
              "      filter: drop-shadow(0px 1px 2px rgba(0, 0, 0, 0.3));\n",
              "      fill: #FFFFFF;\n",
              "    }\n",
              "  </style>\n",
              "\n",
              "    <script>\n",
              "      const buttonEl =\n",
              "        document.querySelector('#df-fe43f748-8014-4eb2-9e0b-f52c183f20f2 button.colab-df-convert');\n",
              "      buttonEl.style.display =\n",
              "        google.colab.kernel.accessAllowed ? 'block' : 'none';\n",
              "\n",
              "      async function convertToInteractive(key) {\n",
              "        const element = document.querySelector('#df-fe43f748-8014-4eb2-9e0b-f52c183f20f2');\n",
              "        const dataTable =\n",
              "          await google.colab.kernel.invokeFunction('convertToInteractive',\n",
              "                                                    [key], {});\n",
              "        if (!dataTable) return;\n",
              "\n",
              "        const docLinkHtml = 'Like what you see? Visit the ' +\n",
              "          '<a target=\"_blank\" href=https://colab.research.google.com/notebooks/data_table.ipynb>data table notebook</a>'\n",
              "          + ' to learn more about interactive tables.';\n",
              "        element.innerHTML = '';\n",
              "        dataTable['output_type'] = 'display_data';\n",
              "        await google.colab.output.renderOutput(dataTable, element);\n",
              "        const docLink = document.createElement('div');\n",
              "        docLink.innerHTML = docLinkHtml;\n",
              "        element.appendChild(docLink);\n",
              "      }\n",
              "    </script>\n",
              "  </div>\n",
              "\n",
              "\n",
              "<div id=\"df-28910c41-8164-4b09-a15f-9c1401a71645\">\n",
              "  <button class=\"colab-df-quickchart\" onclick=\"quickchart('df-28910c41-8164-4b09-a15f-9c1401a71645')\"\n",
              "            title=\"Suggest charts\"\n",
              "            style=\"display:none;\">\n",
              "\n",
              "<svg xmlns=\"http://www.w3.org/2000/svg\" height=\"24px\"viewBox=\"0 0 24 24\"\n",
              "     width=\"24px\">\n",
              "    <g>\n",
              "        <path d=\"M19 3H5c-1.1 0-2 .9-2 2v14c0 1.1.9 2 2 2h14c1.1 0 2-.9 2-2V5c0-1.1-.9-2-2-2zM9 17H7v-7h2v7zm4 0h-2V7h2v10zm4 0h-2v-4h2v4z\"/>\n",
              "    </g>\n",
              "</svg>\n",
              "  </button>\n",
              "\n",
              "<style>\n",
              "  .colab-df-quickchart {\n",
              "      --bg-color: #E8F0FE;\n",
              "      --fill-color: #1967D2;\n",
              "      --hover-bg-color: #E2EBFA;\n",
              "      --hover-fill-color: #174EA6;\n",
              "      --disabled-fill-color: #AAA;\n",
              "      --disabled-bg-color: #DDD;\n",
              "  }\n",
              "\n",
              "  [theme=dark] .colab-df-quickchart {\n",
              "      --bg-color: #3B4455;\n",
              "      --fill-color: #D2E3FC;\n",
              "      --hover-bg-color: #434B5C;\n",
              "      --hover-fill-color: #FFFFFF;\n",
              "      --disabled-bg-color: #3B4455;\n",
              "      --disabled-fill-color: #666;\n",
              "  }\n",
              "\n",
              "  .colab-df-quickchart {\n",
              "    background-color: var(--bg-color);\n",
              "    border: none;\n",
              "    border-radius: 50%;\n",
              "    cursor: pointer;\n",
              "    display: none;\n",
              "    fill: var(--fill-color);\n",
              "    height: 32px;\n",
              "    padding: 0;\n",
              "    width: 32px;\n",
              "  }\n",
              "\n",
              "  .colab-df-quickchart:hover {\n",
              "    background-color: var(--hover-bg-color);\n",
              "    box-shadow: 0 1px 2px rgba(60, 64, 67, 0.3), 0 1px 3px 1px rgba(60, 64, 67, 0.15);\n",
              "    fill: var(--button-hover-fill-color);\n",
              "  }\n",
              "\n",
              "  .colab-df-quickchart-complete:disabled,\n",
              "  .colab-df-quickchart-complete:disabled:hover {\n",
              "    background-color: var(--disabled-bg-color);\n",
              "    fill: var(--disabled-fill-color);\n",
              "    box-shadow: none;\n",
              "  }\n",
              "\n",
              "  .colab-df-spinner {\n",
              "    border: 2px solid var(--fill-color);\n",
              "    border-color: transparent;\n",
              "    border-bottom-color: var(--fill-color);\n",
              "    animation:\n",
              "      spin 1s steps(1) infinite;\n",
              "  }\n",
              "\n",
              "  @keyframes spin {\n",
              "    0% {\n",
              "      border-color: transparent;\n",
              "      border-bottom-color: var(--fill-color);\n",
              "      border-left-color: var(--fill-color);\n",
              "    }\n",
              "    20% {\n",
              "      border-color: transparent;\n",
              "      border-left-color: var(--fill-color);\n",
              "      border-top-color: var(--fill-color);\n",
              "    }\n",
              "    30% {\n",
              "      border-color: transparent;\n",
              "      border-left-color: var(--fill-color);\n",
              "      border-top-color: var(--fill-color);\n",
              "      border-right-color: var(--fill-color);\n",
              "    }\n",
              "    40% {\n",
              "      border-color: transparent;\n",
              "      border-right-color: var(--fill-color);\n",
              "      border-top-color: var(--fill-color);\n",
              "    }\n",
              "    60% {\n",
              "      border-color: transparent;\n",
              "      border-right-color: var(--fill-color);\n",
              "    }\n",
              "    80% {\n",
              "      border-color: transparent;\n",
              "      border-right-color: var(--fill-color);\n",
              "      border-bottom-color: var(--fill-color);\n",
              "    }\n",
              "    90% {\n",
              "      border-color: transparent;\n",
              "      border-bottom-color: var(--fill-color);\n",
              "    }\n",
              "  }\n",
              "</style>\n",
              "\n",
              "  <script>\n",
              "    async function quickchart(key) {\n",
              "      const quickchartButtonEl =\n",
              "        document.querySelector('#' + key + ' button');\n",
              "      quickchartButtonEl.disabled = true;  // To prevent multiple clicks.\n",
              "      quickchartButtonEl.classList.add('colab-df-spinner');\n",
              "      try {\n",
              "        const charts = await google.colab.kernel.invokeFunction(\n",
              "            'suggestCharts', [key], {});\n",
              "      } catch (error) {\n",
              "        console.error('Error during call to suggestCharts:', error);\n",
              "      }\n",
              "      quickchartButtonEl.classList.remove('colab-df-spinner');\n",
              "      quickchartButtonEl.classList.add('colab-df-quickchart-complete');\n",
              "    }\n",
              "    (() => {\n",
              "      let quickchartButtonEl =\n",
              "        document.querySelector('#df-28910c41-8164-4b09-a15f-9c1401a71645 button');\n",
              "      quickchartButtonEl.style.display =\n",
              "        google.colab.kernel.accessAllowed ? 'block' : 'none';\n",
              "    })();\n",
              "  </script>\n",
              "</div>\n",
              "    </div>\n",
              "  </div>\n"
            ],
            "application/vnd.google.colaboratory.intrinsic+json": {
              "type": "dataframe",
              "variable_name": "df",
              "summary": "{\n  \"name\": \"df\",\n  \"rows\": 15,\n  \"fields\": [\n    {\n      \"column\": \"\\u0413\\u043e\\u0440\\u043e\\u0434\",\n      \"properties\": {\n        \"dtype\": \"category\",\n        \"num_unique_values\": 3,\n        \"samples\": [\n          \"\\u041c\\u043e\\u0441\\u043a\\u0432\\u0430\",\n          \"\\u0421\\u0430\\u043d\\u043a\\u0442-\\u041f\\u0435\\u0442\\u0435\\u0440\\u0431\\u0443\\u0440\\u0433\",\n          \"\\u0415\\u043a\\u0430\\u0442\\u0435\\u0440\\u0438\\u043d\\u0431\\u0443\\u0440\\u0433\"\n        ],\n        \"semantic_type\": \"\",\n        \"description\": \"\"\n      }\n    },\n    {\n      \"column\": \"\\u041f\\u043e\\u043b\",\n      \"properties\": {\n        \"dtype\": \"category\",\n        \"num_unique_values\": 2,\n        \"samples\": [\n          \"\\u0416\",\n          \"\\u041c\"\n        ],\n        \"semantic_type\": \"\",\n        \"description\": \"\"\n      }\n    },\n    {\n      \"column\": \"\\u041f\\u0440\\u043e\\u0434\\u0430\\u0436\\u0438\",\n      \"properties\": {\n        \"dtype\": \"number\",\n        \"std\": 115,\n        \"min\": 120,\n        \"max\": 489,\n        \"num_unique_values\": 14,\n        \"samples\": [\n          300,\n          420\n        ],\n        \"semantic_type\": \"\",\n        \"description\": \"\"\n      }\n    },\n    {\n      \"column\": \"\\u0412\\u043e\\u0437\\u0440\\u0430\\u0441\\u0442\",\n      \"properties\": {\n        \"dtype\": \"number\",\n        \"std\": 9,\n        \"min\": 20,\n        \"max\": 48,\n        \"num_unique_values\": 13,\n        \"samples\": [\n          33,\n          24\n        ],\n        \"semantic_type\": \"\",\n        \"description\": \"\"\n      }\n    }\n  ]\n}"
            }
          },
          "metadata": {},
          "execution_count": 19
        }
      ]
    },
    {
      "cell_type": "markdown",
      "source": [
        "# Базовые методы группировки\n",
        "\n",
        "**Группировка по одному столбцу**\n",
        "\n",
        "Синтаксис: `df.groupby(\"столбец\")[\"целевой_столбец\"].агрегат()`."
      ],
      "metadata": {
        "id": "TeT1ZT5DHGwG"
      }
    },
    {
      "cell_type": "code",
      "source": [
        "# Пример 1: Средние продажи по городам\n",
        "avg_sales = df.groupby(\"Город\")[\"Продажи\"].mean()\n",
        "print(\"Средние продажи по городам:\")\n",
        "avg_sales"
      ],
      "metadata": {
        "colab": {
          "base_uri": "https://localhost:8080/",
          "height": 227
        },
        "id": "DDdfRjDnHRZV",
        "outputId": "ca074c04-676c-4774-a5ce-f2d6e6e9a3be"
      },
      "execution_count": 20,
      "outputs": [
        {
          "output_type": "stream",
          "name": "stdout",
          "text": [
            "Средние продажи по городам:\n"
          ]
        },
        {
          "output_type": "execute_result",
          "data": {
            "text/plain": [
              "Город\n",
              "Екатеринбург       449.666667\n",
              "Москва             271.833333\n",
              "Санкт-Петербург    312.000000\n",
              "Name: Продажи, dtype: float64"
            ],
            "text/html": [
              "<div>\n",
              "<style scoped>\n",
              "    .dataframe tbody tr th:only-of-type {\n",
              "        vertical-align: middle;\n",
              "    }\n",
              "\n",
              "    .dataframe tbody tr th {\n",
              "        vertical-align: top;\n",
              "    }\n",
              "\n",
              "    .dataframe thead th {\n",
              "        text-align: right;\n",
              "    }\n",
              "</style>\n",
              "<table border=\"1\" class=\"dataframe\">\n",
              "  <thead>\n",
              "    <tr style=\"text-align: right;\">\n",
              "      <th></th>\n",
              "      <th>Продажи</th>\n",
              "    </tr>\n",
              "    <tr>\n",
              "      <th>Город</th>\n",
              "      <th></th>\n",
              "    </tr>\n",
              "  </thead>\n",
              "  <tbody>\n",
              "    <tr>\n",
              "      <th>Екатеринбург</th>\n",
              "      <td>449.666667</td>\n",
              "    </tr>\n",
              "    <tr>\n",
              "      <th>Москва</th>\n",
              "      <td>271.833333</td>\n",
              "    </tr>\n",
              "    <tr>\n",
              "      <th>Санкт-Петербург</th>\n",
              "      <td>312.000000</td>\n",
              "    </tr>\n",
              "  </tbody>\n",
              "</table>\n",
              "</div><br><label><b>dtype:</b> float64</label>"
            ]
          },
          "metadata": {},
          "execution_count": 20
        }
      ]
    },
    {
      "cell_type": "markdown",
      "source": [
        "# Применение нескольких агрегационных функций\n",
        "\n",
        "Используем метод `.agg()` для гибкости:\n",
        "\n",
        "Средние продажи и максимальный возраст по городам"
      ],
      "metadata": {
        "id": "s4YjeJx6He-C"
      }
    },
    {
      "cell_type": "code",
      "source": [
        "agg_results = df.groupby(\"Город\").agg(\n",
        "    Средние_продажи=(\"Продажи\", \"mean\"),\n",
        "    Максимальный_возраст=(\"Возраст\", \"max\"),\n",
        "    Средний_возраст=(\"Возраст\", \"mean\")\n",
        ")\n",
        "print(\"Агрегированные данные:\")\n",
        "print(agg_results)"
      ],
      "metadata": {
        "colab": {
          "base_uri": "https://localhost:8080/"
        },
        "id": "hpC5mbspHeXm",
        "outputId": "0bd1b542-13f6-4a9d-b26d-f3a3f35d08bb"
      },
      "execution_count": 22,
      "outputs": [
        {
          "output_type": "stream",
          "name": "stdout",
          "text": [
            "Агрегированные данные:\n",
            "                 Средние_продажи  Максимальный_возраст  Средний_возраст\n",
            "Город                                                                  \n",
            "Екатеринбург          449.666667                    33        28.000000\n",
            "Москва                271.833333                    46        35.000000\n",
            "Санкт-Петербург       312.000000                    48        37.166667\n"
          ]
        }
      ]
    },
    {
      "cell_type": "markdown",
      "source": [
        "# Группировка по нескольким столбцам\n",
        "\n",
        "Позволяет анализировать данные в разрезе комбинаций признаков.\n",
        "\n",
        "Суммарные продажи по городам и полу"
      ],
      "metadata": {
        "id": "RxtcCDnKH17E"
      }
    },
    {
      "cell_type": "code",
      "source": [
        "grouped = df.groupby([\"Город\", \"Пол\"])[\"Продажи\"].sum()\n",
        "print(\"Продажи по городам и полу:\")\n",
        "print(grouped)"
      ],
      "metadata": {
        "colab": {
          "base_uri": "https://localhost:8080/"
        },
        "id": "CjejmZegH8T7",
        "outputId": "a6b4a367-cdc7-4882-c896-0b7f1d4dd4b4"
      },
      "execution_count": 27,
      "outputs": [
        {
          "output_type": "stream",
          "name": "stdout",
          "text": [
            "Продажи по городам и полу:\n",
            "Город            Пол\n",
            "Екатеринбург     Ж      1349\n",
            "Москва           М      1631\n",
            "Санкт-Петербург  Ж      1096\n",
            "                 М       776\n",
            "Name: Продажи, dtype: int64\n"
          ]
        }
      ]
    },
    {
      "cell_type": "markdown",
      "source": [
        "# Пользовательские агрегации\n",
        "\n",
        "Можно использовать свои функции, например, размах значений (максимум - минимум).\n",
        "\n",
        "Размах продаж по городам"
      ],
      "metadata": {
        "id": "-Mt0-eshISz_"
      }
    },
    {
      "cell_type": "code",
      "source": [
        "def размах(series):\n",
        "    return series.max() - series.min()\n",
        "\n",
        "result = df.groupby(\"Город\")[\"Продажи\"].agg(размах)\n",
        "print(\"Размах продаж по городам:\")\n",
        "print(result)"
      ],
      "metadata": {
        "colab": {
          "base_uri": "https://localhost:8080/"
        },
        "id": "ZxkqGBqtIESV",
        "outputId": "f26ab30c-9991-423c-c104-21126a2e252d"
      },
      "execution_count": 25,
      "outputs": [
        {
          "output_type": "stream",
          "name": "stdout",
          "text": [
            "Размах продаж по городам:\n",
            "Город\n",
            "Екатеринбург        91\n",
            "Москва             352\n",
            "Санкт-Петербург    190\n",
            "Name: Продажи, dtype: int64\n"
          ]
        }
      ]
    },
    {
      "cell_type": "markdown",
      "source": [
        "# Задачи"
      ],
      "metadata": {
        "id": "GPYps-pjGhre"
      }
    },
    {
      "cell_type": "markdown",
      "source": [
        "**Задача 1**: Найдите максимальный возраст для каждой комбинации города и пола."
      ],
      "metadata": {
        "id": "JXS7W0WpGoE1"
      }
    },
    {
      "cell_type": "code",
      "source": [
        "# Решение:\n",
        "max_age = df.groupby([\"Город\", \"Пол\"])[\"Возраст\"].max()\n",
        "print(\"Максимальный возраст:\")\n",
        "print(max_age)"
      ],
      "metadata": {
        "id": "_poznxxUIrIf"
      },
      "execution_count": null,
      "outputs": []
    },
    {
      "cell_type": "markdown",
      "source": [
        "\n",
        " **Задача 2**: Для каждого города выведите:\n",
        " * Количество записей.\n",
        " * Средний возраст.\n",
        " * Общие продажи.\n",
        "\n",
        "\n"
      ],
      "metadata": {
        "id": "pts87Ys-Itfz"
      }
    },
    {
      "cell_type": "code",
      "source": [
        "# Решение:\n",
        "task2_result = df.groupby(\"Город\").agg(\n",
        "    Количество_записей=(\"Продажи\", \"count\"),\n",
        "    Средний_возраст=(\"Возраст\", \"mean\"),\n",
        "    Общие_продажи=(\"Продажи\", \"sum\")\n",
        ")\n",
        "print(task2_result)\n",
        "\n"
      ],
      "metadata": {
        "id": "_veyg3P-Gj8h"
      },
      "execution_count": null,
      "outputs": []
    },
    {
      "cell_type": "markdown",
      "source": [
        "#  Использвоание на практики\n",
        " 1. Создайте датасет с колонками: \"Продукт\", \"Категория\", \"Цена\", \"Количество\".\n",
        " 2. Сгруппируйте данные по категориям и найдите:\n",
        "    * Общую выручку (Цена * Количество).\n",
        "    * Среднюю цену.\n",
        " 3. Постройте столбчатую диаграмму общей выручки по категориям.\n",
        "\n",
        "Пример:"
      ],
      "metadata": {
        "id": "PhiwfijDF-OP"
      }
    },
    {
      "cell_type": "code",
      "source": [
        "# Создание датасета\n",
        "hw_data = {\n",
        "    \"Продукт\": [\"Яблоки\", \"Бананы\", \"Молоко\", \"Хлеб\", \"Яблоки\", \"Бананы\"],\n",
        "    \"Категория\": [\"Фрукты\", \"Фрукты\", \"Молочные\", \"Хлебобулочные\", \"Фрукты\", \"Фрукты\"],\n",
        "    \"Цена\": [50, 70, 80, 40, 55, 75],\n",
        "    \"Количество\": [10, 15, 5, 8, 12, 20]\n",
        "}\n",
        "hw_df = pd.DataFrame(hw_data)"
      ],
      "metadata": {
        "id": "M3_NC_TAIkda"
      },
      "execution_count": null,
      "outputs": []
    },
    {
      "cell_type": "markdown",
      "source": [
        "# Решение"
      ],
      "metadata": {
        "id": "iMw9vsA8IfZM"
      }
    },
    {
      "cell_type": "code",
      "source": [
        "# Группировка и агрегация\n",
        "hw_result = hw_df.groupby(\"Категория\").agg(\n",
        "    Общая_выручка=(\"Цена\", lambda x: (x * hw_df.loc[x.index, \"Количество\"]).sum()),\n",
        "    Средняя_цена=(\"Цена\", \"mean\")\n",
        ")\n",
        "print(hw_result)"
      ],
      "metadata": {
        "colab": {
          "base_uri": "https://localhost:8080/"
        },
        "id": "TEFFd1W8F18C",
        "outputId": "020cb6e0-1b66-442b-bf17-0cad8489b4b8"
      },
      "execution_count": 15,
      "outputs": [
        {
          "output_type": "stream",
          "name": "stdout",
          "text": [
            "               Общая_выручка  Средняя_цена\n",
            "Категория                                 \n",
            "Молочные                 400          80.0\n",
            "Фрукты                  3710          62.5\n",
            "Хлебобулочные            320          40.0\n"
          ]
        }
      ]
    },
    {
      "cell_type": "code",
      "source": [
        "# Визуализация\n",
        "hw_result[\"Общая_выручка\"].plot(kind=\"bar\", title=\"Общая выручка по категориям\")\n",
        "plt.xlabel(\"Категория\")\n",
        "plt.ylabel(\"Выручка\")\n",
        "plt.show()"
      ],
      "metadata": {
        "colab": {
          "base_uri": "https://localhost:8080/",
          "height": 573
        },
        "id": "DoqnXkWdFswG",
        "outputId": "a5a6fc5f-3c6a-4617-f644-74efba4ad240"
      },
      "execution_count": 16,
      "outputs": [
        {
          "output_type": "display_data",
          "data": {
            "text/plain": [
              "<Figure size 640x480 with 1 Axes>"
            ],
            "image/png": "[encoded data removed]"
          },
          "metadata": {}
        }
      ]
    },
    {
      "cell_type": "code",
      "source": [],
      "metadata": {
        "id": "xWvRvQ9bGMRD"
      },
      "execution_count": null,
      "outputs": []
    }
  ]
}