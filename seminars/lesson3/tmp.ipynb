{
 "cells": [
  {
   "cell_type": "code",
   "execution_count": 40,
   "id": "59e2c610-9d12-4cdb-a98e-3568ed09fe65",
   "metadata": {},
   "outputs": [
    {
     "name": "stdout",
     "output_type": "stream",
     "text": [
      "Количество строк: 442\n",
      "Количество столбцов: 11 \n",
      "\n",
      "Типы данных:\n",
      "age       float64\n",
      "sex       float64\n",
      "bmi       float64\n",
      "bp        float64\n",
      "s1        float64\n",
      "s2        float64\n",
      "s3        float64\n",
      "s4        float64\n",
      "s5        float64\n",
      "s6        float64\n",
      "target    float64\n",
      "dtype: object \n",
      "\n",
      "Пропуски в данных:\n",
      "age       0\n",
      "sex       0\n",
      "bmi       0\n",
      "bp        0\n",
      "s1        0\n",
      "s2        0\n",
      "s3        0\n",
      "s4        0\n",
      "s5        0\n",
      "s6        0\n",
      "target    0\n",
      "dtype: int64\n"
     ]
    }
   ],
   "source": [
    "'''TASK1'''\n",
    "# Импорт необходимых библиотек\n",
    "import pandas as pd\n",
    "from sklearn.datasets import load_diabetes\n",
    "\n",
    "# Загрузка датасета\n",
    "diabetes = load_diabetes()\n",
    "\n",
    "# Создание DataFrame\n",
    "df = pd.DataFrame(\n",
    "    data=diabetes.data,\n",
    "    columns=diabetes.feature_names\n",
    ")\n",
    "\n",
    "# Добавление целевой переменной (прогресс болезни)\n",
    "df['target'] = diabetes.target\n",
    "\n",
    "print('Количество строк:', len(df))\n",
    "print('Количество столбцов:', len(df.columns.to_list()), '\\n')\n",
    "print('Типы данных:')\n",
    "print(df.dtypes, '\\n')\n",
    "print('Пропуски в данных:')\n",
    "print(df.isnull().sum())"
   ]
  },
  {
   "cell_type": "code",
   "execution_count": 68,
   "id": "50535b84-616b-4e21-a15e-ee4319b18134",
   "metadata": {},
   "outputs": [
    {
     "data": {
      "text/html": [
       "<div>\n",
       "<style scoped>\n",
       "    .dataframe tbody tr th:only-of-type {\n",
       "        vertical-align: middle;\n",
       "    }\n",
       "\n",
       "    .dataframe tbody tr th {\n",
       "        vertical-align: top;\n",
       "    }\n",
       "\n",
       "    .dataframe thead th {\n",
       "        text-align: right;\n",
       "    }\n",
       "</style>\n",
       "<table border=\"1\" class=\"dataframe\">\n",
       "  <thead>\n",
       "    <tr style=\"text-align: right;\">\n",
       "      <th></th>\n",
       "      <th>age</th>\n",
       "      <th>sex</th>\n",
       "      <th>bmi</th>\n",
       "      <th>bp</th>\n",
       "      <th>s1</th>\n",
       "      <th>s2</th>\n",
       "      <th>s3</th>\n",
       "      <th>s4</th>\n",
       "      <th>s5</th>\n",
       "      <th>s6</th>\n",
       "      <th>target</th>\n",
       "    </tr>\n",
       "  </thead>\n",
       "  <tbody>\n",
       "    <tr>\n",
       "      <th>mean</th>\n",
       "      <td>-2.511817e-19</td>\n",
       "      <td>1.230790e-17</td>\n",
       "      <td>-2.245564e-16</td>\n",
       "      <td>-4.797570e-17</td>\n",
       "      <td>-1.381499e-17</td>\n",
       "      <td>3.918434e-17</td>\n",
       "      <td>-5.777179e-18</td>\n",
       "      <td>-9.042540e-18</td>\n",
       "      <td>9.293722e-17</td>\n",
       "      <td>1.130318e-17</td>\n",
       "      <td>152.133484</td>\n",
       "    </tr>\n",
       "    <tr>\n",
       "      <th>50%</th>\n",
       "      <td>5.383060e-03</td>\n",
       "      <td>-4.464164e-02</td>\n",
       "      <td>-7.283766e-03</td>\n",
       "      <td>-5.670422e-03</td>\n",
       "      <td>-4.320866e-03</td>\n",
       "      <td>-3.819065e-03</td>\n",
       "      <td>-6.584468e-03</td>\n",
       "      <td>-2.592262e-03</td>\n",
       "      <td>-1.947171e-03</td>\n",
       "      <td>-1.077698e-03</td>\n",
       "      <td>140.500000</td>\n",
       "    </tr>\n",
       "    <tr>\n",
       "      <th>std</th>\n",
       "      <td>4.761905e-02</td>\n",
       "      <td>4.761905e-02</td>\n",
       "      <td>4.761905e-02</td>\n",
       "      <td>4.761905e-02</td>\n",
       "      <td>4.761905e-02</td>\n",
       "      <td>4.761905e-02</td>\n",
       "      <td>4.761905e-02</td>\n",
       "      <td>4.761905e-02</td>\n",
       "      <td>4.761905e-02</td>\n",
       "      <td>4.761905e-02</td>\n",
       "      <td>77.093005</td>\n",
       "    </tr>\n",
       "    <tr>\n",
       "      <th>min</th>\n",
       "      <td>-1.072256e-01</td>\n",
       "      <td>-4.464164e-02</td>\n",
       "      <td>-9.027530e-02</td>\n",
       "      <td>-1.123988e-01</td>\n",
       "      <td>-1.267807e-01</td>\n",
       "      <td>-1.156131e-01</td>\n",
       "      <td>-1.023071e-01</td>\n",
       "      <td>-7.639450e-02</td>\n",
       "      <td>-1.260971e-01</td>\n",
       "      <td>-1.377672e-01</td>\n",
       "      <td>25.000000</td>\n",
       "    </tr>\n",
       "    <tr>\n",
       "      <th>max</th>\n",
       "      <td>1.107267e-01</td>\n",
       "      <td>5.068012e-02</td>\n",
       "      <td>1.705552e-01</td>\n",
       "      <td>1.320436e-01</td>\n",
       "      <td>1.539137e-01</td>\n",
       "      <td>1.987880e-01</td>\n",
       "      <td>1.811791e-01</td>\n",
       "      <td>1.852344e-01</td>\n",
       "      <td>1.335973e-01</td>\n",
       "      <td>1.356118e-01</td>\n",
       "      <td>346.000000</td>\n",
       "    </tr>\n",
       "  </tbody>\n",
       "</table>\n",
       "</div>"
      ],
      "text/plain": [
       "               age           sex           bmi            bp            s1  \\\n",
       "mean -2.511817e-19  1.230790e-17 -2.245564e-16 -4.797570e-17 -1.381499e-17   \n",
       "50%   5.383060e-03 -4.464164e-02 -7.283766e-03 -5.670422e-03 -4.320866e-03   \n",
       "std   4.761905e-02  4.761905e-02  4.761905e-02  4.761905e-02  4.761905e-02   \n",
       "min  -1.072256e-01 -4.464164e-02 -9.027530e-02 -1.123988e-01 -1.267807e-01   \n",
       "max   1.107267e-01  5.068012e-02  1.705552e-01  1.320436e-01  1.539137e-01   \n",
       "\n",
       "                s2            s3            s4            s5            s6  \\\n",
       "mean  3.918434e-17 -5.777179e-18 -9.042540e-18  9.293722e-17  1.130318e-17   \n",
       "50%  -3.819065e-03 -6.584468e-03 -2.592262e-03 -1.947171e-03 -1.077698e-03   \n",
       "std   4.761905e-02  4.761905e-02  4.761905e-02  4.761905e-02  4.761905e-02   \n",
       "min  -1.156131e-01 -1.023071e-01 -7.639450e-02 -1.260971e-01 -1.377672e-01   \n",
       "max   1.987880e-01  1.811791e-01  1.852344e-01  1.335973e-01  1.356118e-01   \n",
       "\n",
       "          target  \n",
       "mean  152.133484  \n",
       "50%   140.500000  \n",
       "std    77.093005  \n",
       "min    25.000000  \n",
       "max   346.000000  "
      ]
     },
     "execution_count": 68,
     "metadata": {},
     "output_type": "execute_result"
    }
   ],
   "source": [
    "'''TASK2'''\n",
    "# Импорт необходимых библиотек\n",
    "import pandas as pd\n",
    "from sklearn.datasets import load_diabetes\n",
    "\n",
    "# Загрузка датасета\n",
    "diabetes = load_diabetes()\n",
    "\n",
    "# Создание DataFrame\n",
    "df = pd.DataFrame(\n",
    "    data=diabetes.data,\n",
    "    columns=diabetes.feature_names\n",
    ")\n",
    "\n",
    "# Добавление целевой переменной (прогресс болезни)\n",
    "df['target'] = diabetes.target\n",
    "\n",
    "res = df.agg(['mean', 'median','std','min','max'])\n",
    "res.rename(index={'median': '50%'}, inplace=True)\n",
    "res"
   ]
  },
  {
   "cell_type": "code",
   "execution_count": 310,
   "id": "cd0ce257-fc99-425a-92ad-0cacb46dd09e",
   "metadata": {},
   "outputs": [
    {
     "data": {
      "text/plain": [
       "sex\n",
       "-0.044642    235\n",
       " 0.050680    207\n",
       "Name: count, dtype: int64"
      ]
     },
     "execution_count": 310,
     "metadata": {},
     "output_type": "execute_result"
    }
   ],
   "source": [
    "'''TASK3'''\n",
    "# Импорт необходимых библиотек\n",
    "import pandas as pd\n",
    "from sklearn.datasets import load_diabetes\n",
    "\n",
    "# Загрузка датасета\n",
    "diabetes = load_diabetes()\n",
    "\n",
    "# Создание DataFrame\n",
    "df = pd.DataFrame(\n",
    "    data=diabetes.data,\n",
    "    columns=diabetes.feature_names\n",
    ")\n",
    "\n",
    "# Добавление целевой переменной (прогресс болезни)\n",
    "df['target'] = diabetes.target\n",
    "\n",
    "df['sex'].value_counts()"
   ]
  },
  {
   "cell_type": "code",
   "execution_count": 312,
   "id": "2810cf81-f1d7-4577-b5d4-3169c92c8b4e",
   "metadata": {},
   "outputs": [
    {
     "name": "stdout",
     "output_type": "stream",
     "text": [
      "bmi    0.586450\n",
      "s5     0.565883\n",
      "bp     0.441482\n",
      "Name: target, dtype: float64\n"
     ]
    }
   ],
   "source": [
    "'''TASK4'''\n",
    "# Импорт необходимых библиотек\n",
    "import pandas as pd\n",
    "from sklearn.datasets import load_diabetes\n",
    "\n",
    "# Загрузка датасета\n",
    "diabetes = load_diabetes()\n",
    "\n",
    "# Создание DataFrame\n",
    "df = pd.DataFrame(\n",
    "    data=diabetes.data,\n",
    "    columns=diabetes.feature_names\n",
    ")\n",
    "\n",
    "# Добавление целевой переменной (прогресс болезни)\n",
    "df['target'] = diabetes.target\n",
    "\n",
    "res = df[['bmi', 'bp', 's5']].corrwith(df['target']).sort_values(ascending=False)\n",
    "res.name = 'target'\n",
    "print(res)"
   ]
  },
  {
   "cell_type": "code",
   "execution_count": 112,
   "id": "ecb77796-5981-4687-b041-40560347e2a1",
   "metadata": {},
   "outputs": [
    {
     "name": "stdout",
     "output_type": "stream",
     "text": [
      "0.17055522598064407\n"
     ]
    }
   ],
   "source": [
    "'''TASK5'''\n",
    "print(df['bmi'].max())"
   ]
  },
  {
   "cell_type": "code",
   "execution_count": 202,
   "id": "0c9c55c1-2429-4f94-bbee-5c47cf69ab29",
   "metadata": {},
   "outputs": [
    {
     "data": {
      "text/plain": [
       "sex\n",
       "-0.044642    149.021277\n",
       " 0.050680    155.666667\n",
       "Name: target, dtype: float64"
      ]
     },
     "execution_count": 202,
     "metadata": {},
     "output_type": "execute_result"
    }
   ],
   "source": [
    "'''TASK6'''\n",
    "# Импорт необходимых библиотек\n",
    "import pandas as pd\n",
    "from sklearn.datasets import load_diabetes\n",
    "\n",
    "# Загрузка датасета\n",
    "diabetes = load_diabetes()\n",
    "\n",
    "# Создание DataFrame\n",
    "df = pd.DataFrame(\n",
    "    data=diabetes.data,\n",
    "    columns=diabetes.feature_names\n",
    ")\n",
    "\n",
    "# Добавление целевой переменной (прогресс болезни)\n",
    "df['target'] = diabetes.target\n",
    "\n",
    "df.groupby('sex').mean().iloc[:, 9]"
   ]
  },
  {
   "cell_type": "code",
   "execution_count": 156,
   "id": "5ec9394b-a128-43eb-8396-1f5d47592982",
   "metadata": {},
   "outputs": [
    {
     "data": {
      "text/plain": [
       "np.float64(0.11072667545381144)"
      ]
     },
     "execution_count": 156,
     "metadata": {},
     "output_type": "execute_result"
    }
   ],
   "source": [
    "'''TASK7'''\n",
    "df['age'].max()"
   ]
  },
  {
   "cell_type": "code",
   "execution_count": 171,
   "id": "f30c99a8-2ba8-404d-a9b0-88ac59aa84cc",
   "metadata": {},
   "outputs": [
    {
     "data": {
      "text/plain": [
       "0.25   -0.034248\n",
       "0.50   -0.004321\n",
       "0.75    0.028358\n",
       "Name: s1, dtype: float64"
      ]
     },
     "execution_count": 171,
     "metadata": {},
     "output_type": "execute_result"
    }
   ],
   "source": [
    "'''TASK8'''\n",
    "df['s1'].quantile([0.25, 0.5, 0.75])"
   ]
  },
  {
   "cell_type": "code",
   "execution_count": 279,
   "id": "366bd9f7-0320-4dd6-a830-b2f6b7874ae7",
   "metadata": {},
   "outputs": [],
   "source": [
    "'''TASK9'''\n",
    "# Импорт необходимых библиотек\n",
    "import pandas as pd\n",
    "from sklearn.datasets import load_diabetes\n",
    "\n",
    "# Загрузка датасета\n",
    "diabetes = load_diabetes()\n",
    "\n",
    "# Создание DataFrame\n",
    "df = pd.DataFrame(\n",
    "    data=diabetes.data,\n",
    "    columns=diabetes.feature_names\n",
    ")\n",
    "\n",
    "# Добавление целевой переменной (прогресс болезни)\n",
    "df['target'] = diabetes.target\n",
    "\n",
    "Q1, Q3 = df['s5'].quantile([0.25, 0.75])\n",
    "IQR = Q3 - Q1\n",
    "inf = Q1 - 1.5*IQR\n",
    "sup = Q3 + 1.5*IQR\n",
    "res = df[((df['s5'] > sup) | (df['s5'] < inf)) &\n",
    "         (df['s5'] > 1.5*IQR)\n",
    "        ]"
   ]
  },
  {
   "cell_type": "code",
   "execution_count": 204,
   "id": "ae1543bc-3a3d-41df-93e4-647a36253acf",
   "metadata": {},
   "outputs": [
    {
     "data": {
      "text/plain": [
       "np.float64(0.19)"
      ]
     },
     "execution_count": 204,
     "metadata": {},
     "output_type": "execute_result"
    }
   ],
   "source": [
    "import numpy\n",
    "'''TASK10'''\n",
    "res = df['age'].corr(df['target'])\n",
    "numpy.round(res, 2)"
   ]
  },
  {
   "cell_type": "code",
   "execution_count": 209,
   "id": "45ffcf6f-28f8-4c61-97f3-d94b0b50dbdf",
   "metadata": {},
   "outputs": [
    {
     "data": {
      "text/plain": [
       "np.float64(-0.016496569391389573)"
      ]
     },
     "execution_count": 209,
     "metadata": {},
     "output_type": "execute_result"
    }
   ],
   "source": [
    "'''TASK11'''\n",
    "df[df['target'] > df['target'].median()]['s3'].mean()"
   ]
  },
  {
   "cell_type": "code",
   "execution_count": 215,
   "id": "aea8a4ed-953c-4b56-b23a-b7966e275a6a",
   "metadata": {},
   "outputs": [
    {
     "data": {
      "text/html": [
       "<div>\n",
       "<style scoped>\n",
       "    .dataframe tbody tr th:only-of-type {\n",
       "        vertical-align: middle;\n",
       "    }\n",
       "\n",
       "    .dataframe tbody tr th {\n",
       "        vertical-align: top;\n",
       "    }\n",
       "\n",
       "    .dataframe thead th {\n",
       "        text-align: right;\n",
       "    }\n",
       "</style>\n",
       "<table border=\"1\" class=\"dataframe\">\n",
       "  <thead>\n",
       "    <tr style=\"text-align: right;\">\n",
       "      <th></th>\n",
       "      <th>age</th>\n",
       "      <th>bmi</th>\n",
       "      <th>target</th>\n",
       "    </tr>\n",
       "  </thead>\n",
       "  <tbody>\n",
       "    <tr>\n",
       "      <th>256</th>\n",
       "      <td>-0.049105</td>\n",
       "      <td>0.160855</td>\n",
       "      <td>346.0</td>\n",
       "    </tr>\n",
       "    <tr>\n",
       "      <th>32</th>\n",
       "      <td>0.034443</td>\n",
       "      <td>0.125287</td>\n",
       "      <td>341.0</td>\n",
       "    </tr>\n",
       "    <tr>\n",
       "      <th>138</th>\n",
       "      <td>0.034443</td>\n",
       "      <td>0.111276</td>\n",
       "      <td>336.0</td>\n",
       "    </tr>\n",
       "    <tr>\n",
       "      <th>290</th>\n",
       "      <td>0.059871</td>\n",
       "      <td>0.076786</td>\n",
       "      <td>332.0</td>\n",
       "    </tr>\n",
       "    <tr>\n",
       "      <th>362</th>\n",
       "      <td>0.019913</td>\n",
       "      <td>0.104809</td>\n",
       "      <td>321.0</td>\n",
       "    </tr>\n",
       "  </tbody>\n",
       "</table>\n",
       "</div>"
      ],
      "text/plain": [
       "          age       bmi  target\n",
       "256 -0.049105  0.160855   346.0\n",
       "32   0.034443  0.125287   341.0\n",
       "138  0.034443  0.111276   336.0\n",
       "290  0.059871  0.076786   332.0\n",
       "362  0.019913  0.104809   321.0"
      ]
     },
     "execution_count": 215,
     "metadata": {},
     "output_type": "execute_result"
    }
   ],
   "source": [
    "'''TASK12'''\n",
    "df[['age', 'bmi', 'target']].sort_values('target', ascending=False).iloc[0:5, :]"
   ]
  },
  {
   "cell_type": "code",
   "execution_count": null,
   "id": "03c2b392-e8ca-45f2-a710-2c53f8dfd194",
   "metadata": {},
   "outputs": [],
   "source": []
  }
 ],
 "metadata": {
  "kernelspec": {
   "display_name": "Python 3 (ipykernel)",
   "language": "python",
   "name": "python3"
  },
  "language_info": {
   "codemirror_mode": {
    "name": "ipython",
    "version": 3
   },
   "file_extension": ".py",
   "mimetype": "text/x-python",
   "name": "python",
   "nbconvert_exporter": "python",
   "pygments_lexer": "ipython3",
   "version": "3.13.2"
  }
 },
 "nbformat": 4,
 "nbformat_minor": 5
}
