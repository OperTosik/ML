{
 "cells": [
  {
   "cell_type": "code",
   "execution_count": 1,
   "id": "0054601d-8da9-4e14-8138-bca3462a0f12",
   "metadata": {},
   "outputs": [],
   "source": [
    "def read_input():\n",
    "    X_train = []\n",
    "    n = int(input())\n",
    "    for i in range(n):\n",
    "        x, y = map(int, input().strip().split(\" \"))\n",
    "        X_train.append([x, y])\n",
    "    return X_train"
   ]
  },
  {
   "cell_type": "code",
   "execution_count": 2,
   "id": "72b00317-be72-4c02-938a-a8c2fc511000",
   "metadata": {},
   "outputs": [],
   "source": [
    "def find_solves(X_train):\n",
    "    a = X_train[0][1]\n",
    "    for s in X_train:\n",
    "        if (a != s[1]):\n",
    "            b = s[1]\n",
    "            return a, b"
   ]
  },
  {
   "cell_type": "code",
   "execution_count": 10,
   "id": "0d2d6828-e709-4e9c-a15e-b2146993e270",
   "metadata": {},
   "outputs": [],
   "source": [
    "def rozenblatt(X_train, w):\n",
    "    for s in X_train:\n",
    "        print(\"w:\", w)\n",
    "        if (w*s[0]*s[1]) <= 0:\n",
    "            w += s[0]*s[1]\n",
    "            X_train.remove(s)\n",
    "            return rozenblatt(X_train, w)        \n",
    "    return w"
   ]
  },
  {
   "cell_type": "code",
   "execution_count": 4,
   "id": "9ea68250-b1f6-4a8e-a1e2-444de92875b7",
   "metadata": {},
   "outputs": [],
   "source": [
    "def find_w0(X_train, a, b, w):\n",
    "    inf, sup = 0, 0\n",
    "    flag_inf, flag_sup = 0, 0\n",
    "    for s in X_train:\n",
    "        if (s[1] == a) and (flag_sup == 0):\n",
    "            flag_sup = 1\n",
    "            sup = w*s[0]*s[1]\n",
    "        if (s[1] == a) and (flag_sup == 1) and sup > w*s[0]*s[1]:\n",
    "            sup = w*s[0]*s[1]\n",
    "        if (s[1] == b) and (flag_inf == 0):\n",
    "            flag_inf = 1\n",
    "            inf = w*s[0]*s[1]\n",
    "        if (s[1] == b) and (flag_inf == 1) and inf < w*s[0]*s[1]:\n",
    "            inf = w*s[0]*s[1]\n",
    "    return (sup - inf) / 2"
   ]
  },
  {
   "cell_type": "code",
   "execution_count": 26,
   "id": "868fd1a5-76aa-4e8f-a25c-f5bfd540912b",
   "metadata": {},
   "outputs": [],
   "source": [
    "def find_c(X_train, a, b):\n",
    "    X0 = [s for s in X_train if s[1] == a]\n",
    "    X1 = [s for s in X_train if s[1] == b]\n",
    "    X0.sort(key=lambda s: s[1])\n",
    "    X1.sort(key=lambda s: s[1])\n",
    "    delta = (X1[0][0] - X0[-1][0]) / 2\n",
    "    c = X1[0][0] - delta\n",
    "    return c"
   ]
  },
  {
   "cell_type": "code",
   "execution_count": null,
   "id": "055e36ac-9070-42a2-9281-71882e967f88",
   "metadata": {},
   "outputs": [],
   "source": [
    "if __name__ == '__main__':\n",
    "    X_train = read_input()\n",
    "    X_train_copy = X_train\n",
    "    n = len(X_train)\n",
    "    a, b = find_solves(X_train)\n",
    "    # w = rozenblatt(X_train_copy, w = 0)\n",
    "    # c = find_w0(X_train, a, b, w)\n",
    "    c = find_c(X_train, a, b)\n",
    "    print(a, b, c)"
   ]
  },
  {
   "cell_type": "code",
   "execution_count": null,
   "id": "c70fcd99-c948-4169-bb02-1478ae985fa1",
   "metadata": {},
   "outputs": [],
   "source": []
  }
 ],
 "metadata": {
  "kernelspec": {
   "display_name": "Python 3 (ipykernel)",
   "language": "python",
   "name": "python3"
  },
  "language_info": {
   "codemirror_mode": {
    "name": "ipython",
    "version": 3
   },
   "file_extension": ".py",
   "mimetype": "text/x-python",
   "name": "python",
   "nbconvert_exporter": "python",
   "pygments_lexer": "ipython3",
   "version": "3.13.2"
  }
 },
 "nbformat": 4,
 "nbformat_minor": 5
}
